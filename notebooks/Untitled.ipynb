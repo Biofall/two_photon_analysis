{
 "cells": [
  {
   "cell_type": "code",
   "execution_count": 10,
   "id": "71f4c198",
   "metadata": {},
   "outputs": [],
   "source": [
    "from visanalysis.analysis import imaging_data, shared_analysis\n",
    "from visanalysis.util import plot_tools\n",
    "import matplotlib.pyplot as plt\n",
    "import numpy as np\n",
    "import os\n",
    "from two_photon_analysis import medulla_analysis as ma"
   ]
  },
  {
   "cell_type": "code",
   "execution_count": 11,
   "id": "483600d0",
   "metadata": {},
   "outputs": [],
   "source": [
    "# %% Analysis Parameters\n",
    "\n",
    "fileOne = '/Users/averykrieger/Documents/local_data_repo/20220526'\n",
    "fileOneName = '2022-05-26'\n",
    "fileTwo = '/Users/averykrieger/Documents/local_data_repo/20220527'\n",
    "fileTwoName = '2022-05-27'\n",
    "fileThree = '/Volumes/ROG2TBAK/data/bruker/20220718'\n",
    "fileThreeName = '2022-07-18' #Alt = 5, 9, 14, 18\n",
    "\n",
    "roi_sets = ['distal_rois-standard', 'medial_1_rois-standard','medial_2_rois-standard','proximal_rois-standard']"
   ]
  },
  {
   "cell_type": "code",
   "execution_count": 12,
   "id": "47fb608f",
   "metadata": {},
   "outputs": [
    {
     "ename": "AssertionError",
     "evalue": "No hdf5 file found at \n /Volumes/ROG2TBAK/data/bruker/20220718/2022-07-18.hdf5, check your filepath",
     "output_type": "error",
     "traceback": [
      "\u001b[0;31m---------------------------------------------------------------------------\u001b[0m",
      "\u001b[0;31mAssertionError\u001b[0m                            Traceback (most recent call last)",
      "Input \u001b[0;32mIn [12]\u001b[0m, in \u001b[0;36m<cell line: 1>\u001b[0;34m()\u001b[0m\n\u001b[1;32m     18\u001b[0m     df \u001b[38;5;241m=\u001b[39m \u001b[38;5;28;01mFalse\u001b[39;00m\n\u001b[1;32m     20\u001b[0m \u001b[38;5;66;03m# Load up that data\u001b[39;00m\n\u001b[0;32m---> 21\u001b[0m ID, roi_data \u001b[38;5;241m=\u001b[39m \u001b[43mma\u001b[49m\u001b[38;5;241;43m.\u001b[39;49m\u001b[43mdataLoader\u001b[49m\u001b[43m(\u001b[49m\u001b[43mfile_directory\u001b[49m\u001b[43m \u001b[49m\u001b[38;5;241;43m=\u001b[39;49m\u001b[43m \u001b[49m\u001b[43mfile_directory\u001b[49m\u001b[43m,\u001b[49m\n\u001b[1;32m     22\u001b[0m \u001b[43m                      \u001b[49m\u001b[43msave_path\u001b[49m\u001b[43m \u001b[49m\u001b[38;5;241;43m=\u001b[39;49m\u001b[43m \u001b[49m\u001b[43msave_path\u001b[49m\u001b[43m,\u001b[49m\n\u001b[1;32m     23\u001b[0m \u001b[43m                      \u001b[49m\u001b[43mfile_name\u001b[49m\u001b[43m \u001b[49m\u001b[38;5;241;43m=\u001b[39;49m\u001b[43m \u001b[49m\u001b[43mfile_name\u001b[49m\u001b[43m,\u001b[49m\n\u001b[1;32m     24\u001b[0m \u001b[43m                      \u001b[49m\u001b[43mseries_number\u001b[49m\u001b[43m \u001b[49m\u001b[38;5;241;43m=\u001b[39;49m\u001b[43m \u001b[49m\u001b[43mseries_number\u001b[49m\u001b[43m,\u001b[49m\n\u001b[1;32m     25\u001b[0m \u001b[43m                      \u001b[49m\u001b[43mroi_name\u001b[49m\u001b[43m \u001b[49m\u001b[38;5;241;43m=\u001b[39;49m\u001b[43m \u001b[49m\u001b[43mroi_name\u001b[49m\u001b[43m,\u001b[49m\n\u001b[1;32m     26\u001b[0m \u001b[43m                      \u001b[49m\u001b[43mopto_condition\u001b[49m\u001b[43m \u001b[49m\u001b[38;5;241;43m=\u001b[39;49m\u001b[43m \u001b[49m\u001b[43mopto_condition\u001b[49m\u001b[43m,\u001b[49m\n\u001b[1;32m     27\u001b[0m \u001b[43m                      \u001b[49m\u001b[43mdisplayFix\u001b[49m\u001b[43m \u001b[49m\u001b[38;5;241;43m=\u001b[39;49m\u001b[43m \u001b[49m\u001b[43mdisplayFix\u001b[49m\u001b[43m,\u001b[49m\n\u001b[1;32m     28\u001b[0m \u001b[43m                      \u001b[49m\u001b[43msaveFig\u001b[49m\u001b[43m \u001b[49m\u001b[38;5;241;43m=\u001b[39;49m\u001b[43m \u001b[49m\u001b[43msaveFig\u001b[49m\u001b[43m)\u001b[49m\n\u001b[1;32m     29\u001b[0m \u001b[38;5;66;03m# saveNames for figures\u001b[39;00m\n\u001b[1;32m     30\u001b[0m \u001b[38;5;28;01mif\u001b[39;00m df \u001b[38;5;241m==\u001b[39m \u001b[38;5;28;01mTrue\u001b[39;00m:\n",
      "File \u001b[0;32m~/local_repos/two_photon_analysis/two_photon_analysis/medulla_analysis.py:37\u001b[0m, in \u001b[0;36mdataLoader\u001b[0;34m(file_directory, save_path, file_name, series_number, roi_name, opto_condition, displayFix, saveFig, dff)\u001b[0m\n\u001b[1;32m     35\u001b[0m \u001b[38;5;28;01melse\u001b[39;00m:\n\u001b[1;32m     36\u001b[0m     cfg_dict \u001b[38;5;241m=\u001b[39m {\u001b[38;5;124m'\u001b[39m\u001b[38;5;124mtiming_channel_ind\u001b[39m\u001b[38;5;124m'\u001b[39m: \u001b[38;5;241m1\u001b[39m}\n\u001b[0;32m---> 37\u001b[0m     ID \u001b[38;5;241m=\u001b[39m \u001b[43mimaging_data\u001b[49m\u001b[38;5;241;43m.\u001b[39;49m\u001b[43mImagingDataObject\u001b[49m\u001b[43m(\u001b[49m\u001b[43mfile_path\u001b[49m\u001b[43m,\u001b[49m\n\u001b[1;32m     38\u001b[0m \u001b[43m                                    \u001b[49m\u001b[43mseries_number\u001b[49m\u001b[43m,\u001b[49m\n\u001b[1;32m     39\u001b[0m \u001b[43m                                    \u001b[49m\u001b[43mquiet\u001b[49m\u001b[38;5;241;43m=\u001b[39;49m\u001b[38;5;28;43;01mTrue\u001b[39;49;00m\u001b[43m,\u001b[49m\n\u001b[1;32m     40\u001b[0m \u001b[43m                                    \u001b[49m\u001b[43mcfg_dict\u001b[49m\u001b[38;5;241;43m=\u001b[39;49m\u001b[43mcfg_dict\u001b[49m\u001b[43m)\u001b[49m\n\u001b[1;32m     42\u001b[0m \u001b[38;5;66;03m# getRoiResponses() wants a ROI set name, returns roi_data (dict)\u001b[39;00m\n\u001b[1;32m     43\u001b[0m roi_data \u001b[38;5;241m=\u001b[39m ID\u001b[38;5;241m.\u001b[39mgetRoiResponses(roi_name)\n",
      "File \u001b[0;32m~/Documents/GitHub/visanalysis/visanalysis/analysis/imaging_data.py:54\u001b[0m, in \u001b[0;36mImagingDataObject.__init__\u001b[0;34m(self, file_path, series_number, quiet, cfg_dict)\u001b[0m\n\u001b[1;32m     52\u001b[0m \u001b[38;5;66;03m# check to see if hdf5 file exists\u001b[39;00m\n\u001b[1;32m     53\u001b[0m \u001b[38;5;28;01massert\u001b[39;00m \u001b[38;5;28mself\u001b[39m\u001b[38;5;241m.\u001b[39mfile_path\u001b[38;5;241m.\u001b[39msplit(\u001b[38;5;124m'\u001b[39m\u001b[38;5;124m.\u001b[39m\u001b[38;5;124m'\u001b[39m)[\u001b[38;5;241m-\u001b[39m\u001b[38;5;241m1\u001b[39m] \u001b[38;5;241m==\u001b[39m \u001b[38;5;124m'\u001b[39m\u001b[38;5;124mhdf5\u001b[39m\u001b[38;5;124m'\u001b[39m, \u001b[38;5;124m'\u001b[39m\u001b[38;5;124mfile_path must point to an .hdf5 file, \u001b[39m\u001b[38;5;130;01m\\n\u001b[39;00m\u001b[38;5;124m current file_path is \u001b[39m\u001b[38;5;132;01m{}\u001b[39;00m\u001b[38;5;124m'\u001b[39m\u001b[38;5;241m.\u001b[39mformat(\u001b[38;5;28mself\u001b[39m\u001b[38;5;241m.\u001b[39mfile_path)\n\u001b[0;32m---> 54\u001b[0m \u001b[38;5;28;01massert\u001b[39;00m os\u001b[38;5;241m.\u001b[39mpath\u001b[38;5;241m.\u001b[39mexists(\u001b[38;5;28mself\u001b[39m\u001b[38;5;241m.\u001b[39mfile_path), \u001b[38;5;124m'\u001b[39m\u001b[38;5;124mNo hdf5 file found at \u001b[39m\u001b[38;5;130;01m\\n\u001b[39;00m\u001b[38;5;124m \u001b[39m\u001b[38;5;132;01m{}\u001b[39;00m\u001b[38;5;124m, check your filepath\u001b[39m\u001b[38;5;124m'\u001b[39m\u001b[38;5;241m.\u001b[39mformat(\u001b[38;5;28mself\u001b[39m\u001b[38;5;241m.\u001b[39mfile_path)\n\u001b[1;32m     56\u001b[0m \u001b[38;5;66;03m# check to see if series exists in this file:\u001b[39;00m\n\u001b[1;32m     57\u001b[0m \u001b[38;5;28;01mwith\u001b[39;00m h5py\u001b[38;5;241m.\u001b[39mFile(\u001b[38;5;28mself\u001b[39m\u001b[38;5;241m.\u001b[39mfile_path, \u001b[38;5;124m'\u001b[39m\u001b[38;5;124mr\u001b[39m\u001b[38;5;124m'\u001b[39m) \u001b[38;5;28;01mas\u001b[39;00m experiment_file:\n",
      "\u001b[0;31mAssertionError\u001b[0m: No hdf5 file found at \n /Volumes/ROG2TBAK/data/bruker/20220718/2022-07-18.hdf5, check your filepath"
     ]
    }
   ],
   "source": [
    "for i in range(len(roi_sets)):\n",
    "\n",
    "    file_directory = fileThree\n",
    "    file_name = fileThreeName\n",
    "    alt_pre_time = 1\n",
    "    save_path = '/Users/averykrieger/Documents/local_data_repo/figs/'\n",
    "    series_number = 5\n",
    "    roi_name = roi_sets[i]\n",
    "    opto_condition = True\n",
    "    vis_stim_type = 'single' # 'spatiotemporal' or 'single'\n",
    "    displayFix = True\n",
    "    saveFig = True\n",
    "    dff = True\n",
    "    # Handling the DF/F or DF or Raw options for the Ca traces\n",
    "    if dff == False:\n",
    "        df = True\n",
    "    else:\n",
    "        df = False\n",
    "\n",
    "    # Load up that data\n",
    "    ID, roi_data = ma.dataLoader(file_directory = file_directory,\n",
    "                          save_path = save_path,\n",
    "                          file_name = file_name,\n",
    "                          series_number = series_number,\n",
    "                          roi_name = roi_name,\n",
    "                          opto_condition = opto_condition,\n",
    "                          displayFix = displayFix,\n",
    "                          saveFig = saveFig)\n",
    "    # saveNames for figures\n",
    "    if df == True:\n",
    "        saveName = save_path+str(file_name)+' | SeriesNumber'+' | DF is '+str(df)+' | '+str(series_number)+' | '+str(roi_name) + '.pdf'\n",
    "    else:\n",
    "        saveName = save_path+str(file_name)+' | SeriesNumber'+' | DFF is '+str(dff)+' | '+str(series_number)+' | '+str(roi_name) + ' | alt pre time: ' + str(alt_pre_time)+ '.pdf'\n",
    "\n",
    "    # Find out if the stimuli Combos were good\n",
    "    if vis_stim_type == 'spatiotemporal':\n",
    "        ma.stimComboChecker(ID)\n",
    "\n",
    "    #ID.getStimulusTiming(plot_trace_flag=True)\n",
    "\n",
    "    # Calculate Response Metrics so that they can be plotted\n",
    "    noptoMaxes, noptoMeans = ma.getResponseMetrics(ID = ID, roi_data = roi_data,\n",
    "                                                  dff = dff, df = df,\n",
    "                                                  vis_stim_type = vis_stim_type,\n",
    "                                                  alt_pre_time = alt_pre_time,\n",
    "                                                  opto_condition = False,\n",
    "                                                  silent = False)\n",
    "\n",
    "    print('\\n\\nFinished noptoMaxes, noptoMeans!\\n')\n",
    "    yoptoMaxes, yoptoMeans = ma.getResponseMetrics(ID = ID, roi_data = roi_data,\n",
    "                                                  dff = dff, df = df,\n",
    "                                                  vis_stim_type = vis_stim_type,\n",
    "                                                  alt_pre_time = alt_pre_time,\n",
    "                                                  opto_condition = True,\n",
    "                                                  silent = False)\n",
    "    print('\\n\\nFinished yoptoMaxes, yoptoMeans!\\n')\n",
    "\n",
    "\n",
    "    # PLOT traces of each ROI\n",
    "    ma.plotConditionedROIResponses(ID = ID, roi_data = roi_data,\n",
    "                                   opto_condition = opto_condition,\n",
    "                                   vis_stim_type = vis_stim_type,\n",
    "                                   alt_pre_time = alt_pre_time,\n",
    "                                   dff=dff, df = df, save_path = save_path,\n",
    "                                   saveFig=saveFig, saveName = saveName)"
   ]
  },
  {
   "cell_type": "code",
   "execution_count": null,
   "id": "ef7b6e8a",
   "metadata": {},
   "outputs": [],
   "source": []
  }
 ],
 "metadata": {
  "kernelspec": {
   "display_name": "Python 3 (ipykernel)",
   "language": "python",
   "name": "python3"
  },
  "language_info": {
   "codemirror_mode": {
    "name": "ipython",
    "version": 3
   },
   "file_extension": ".py",
   "mimetype": "text/x-python",
   "name": "python",
   "nbconvert_exporter": "python",
   "pygments_lexer": "ipython3",
   "version": "3.9.1"
  }
 },
 "nbformat": 4,
 "nbformat_minor": 5
}
