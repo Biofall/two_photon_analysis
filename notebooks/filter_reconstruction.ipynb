{
  "cells": [
    {
      "cell_type": "code",
      "source": [
        "import numpy as np\n",
        "import matplotlib.pyplot as plt\n",
        "from visanalysis.analysis import imaging_data\n",
        "import os\n",
        "from scipy import interpolate\n"
      ],
      "outputs": [],
      "execution_count": 21,
      "metadata": {
        "collapsed": true,
        "execution": {
          "iopub.execute_input": "2022-11-03T18:29:27.163Z",
          "iopub.status.busy": "2022-11-03T18:29:27.158Z",
          "iopub.status.idle": "2022-11-03T18:29:27.177Z",
          "shell.execute_reply": "2022-11-03T18:29:27.180Z"
        },
        "jupyter": {
          "outputs_hidden": false,
          "source_hidden": false
        },
        "nteract": {
          "transient": {
            "deleting": false
          }
        }
      }
    },
    {
      "cell_type": "code",
      "source": [
        "experiment_file_name = '2022-10-27.hdf5'\n",
        "experiment_file_directory = '/Users/mhturner/Desktop'\n",
        "series_number = 5"
      ],
      "outputs": [],
      "execution_count": 22,
      "metadata": {
        "collapsed": true,
        "execution": {
          "iopub.execute_input": "2022-11-03T18:29:27.467Z",
          "iopub.status.busy": "2022-11-03T18:29:27.462Z",
          "iopub.status.idle": "2022-11-03T18:29:27.475Z",
          "shell.execute_reply": "2022-11-03T18:29:27.479Z"
        },
        "jupyter": {
          "outputs_hidden": false,
          "source_hidden": false
        },
        "nteract": {
          "transient": {
            "deleting": false
          }
        }
      }
    },
    {
      "cell_type": "code",
      "source": [
        "file_path = os.path.join(experiment_file_directory, experiment_file_name)\n",
        "\n",
        "# ImagingDataObject wants a path to an hdf5 file and a series number from that file\n",
        "ID = imaging_data.ImagingDataObject(file_path,\n",
        "                                    series_number,\n",
        "                                    quiet=False)\n",
        "\n",
        "roi_data = ID.getRoiResponses('proximal_roi')"
      ],
      "outputs": [
        {
          "output_type": "stream",
          "name": "stdout",
          "text": [
            "===================TIMING: Channel 0======================\n",
            "150 Stims presented (of 150 parameterized)\n",
            "Stim start to start: [min=14.034, median=14.060, max=14.085] / parameterized = 14.000 sec\n",
            "Stim duration: [min=9.992, median=9.992, max=10.009] / parameterized = 10.000 sec\n",
            "Dropped 0 / 180002 frames (0.00%)\n",
            "==========================================================\n",
            "===================TIMING: Channel 1======================\n",
            "150 Stims presented (of 150 parameterized)\n",
            "Stim start to start: [min=14.034, median=14.060, max=14.085] / parameterized = 14.000 sec\n",
            "Stim duration: [min=9.992, median=9.992, max=10.009] / parameterized = 10.000 sec\n",
            "Dropped 0 / 180002 frames (0.00%)\n",
            "==========================================================\n"
          ]
        }
      ],
      "execution_count": 23,
      "metadata": {
        "collapsed": true,
        "execution": {
          "iopub.execute_input": "2022-11-03T18:29:27.821Z",
          "iopub.status.busy": "2022-11-03T18:29:27.817Z",
          "iopub.status.idle": "2022-11-03T18:29:29.488Z",
          "shell.execute_reply": "2022-11-03T18:29:29.540Z"
        },
        "jupyter": {
          "outputs_hidden": false,
          "source_hidden": false
        },
        "nteract": {
          "transient": {
            "deleting": false
          }
        }
      }
    },
    {
      "cell_type": "code",
      "source": [
        "roi_ind = 0\n",
        "response_trace = roi_data.get('roi_response')[roi_ind][0, :]\n",
        "response_time = np.arange(1, len(response_trace)+1) * ID.getAcquisitionMetadata('sample_period')\n",
        "print\n",
        "# Interpolation function to interpolate response. Fxn built using sample period\n",
        "f_interp_response = interpolate.interp1d(response_time, response_trace)\n",
        "\n",
        "def getRandVal(rand_min, rand_max, start_seed, update_rate, t):\n",
        "  seed = int(round(start_seed + t*update_rate))\n",
        "  np.random.seed(seed)\n",
        "  return np.random.choice([rand_min, (rand_min + rand_max)/2, rand_max], size=1)[0]\n"
      ],
      "outputs": [],
      "execution_count": 24,
      "metadata": {
        "collapsed": true,
        "execution": {
          "iopub.execute_input": "2022-11-03T18:29:29.496Z",
          "iopub.status.busy": "2022-11-03T18:29:29.492Z",
          "iopub.status.idle": "2022-11-03T18:29:29.507Z",
          "shell.execute_reply": "2022-11-03T18:29:29.544Z"
        },
        "jupyter": {
          "outputs_hidden": false,
          "source_hidden": false
        },
        "nteract": {
          "transient": {
            "deleting": false
          }
        }
      }
    },
    {
      "cell_type": "code",
      "source": [
        "filter_length = 3 # sec\n",
        "epoch_parameters = ID.getEpochParameters()\n",
        "ideal_frame_rate = 120  # Hz\n",
        "sample_period = ID.getAcquisitionMetadata('sample_period') # (sec), bruker imaging acquisition period\n",
        "filter_len = filter_length * ideal_frame_rate\n",
        "stimulus_timing = ID.getStimulusTiming(plot_trace_flag=False)\n",
        "stimulus_start_times = stimulus_timing['stimulus_start_times']\n",
        "stim_frames = ID.getRunParameters('stim_time') * ideal_frame_rate\n",
        "# frame flip times in a stimulus presentation:\n",
        "stim_times = np.arange(1, stim_frames+1) * 1/ideal_frame_rate\n",
        "\n",
        "all_trfs = []\n",
        "all_stims = []\n",
        "all_responses = []\n",
        "for epoch_ind in range(int(ID.getRunParameters('num_epochs'))):\n",
        "  # Regenerate the stimulus\n",
        "  start_seed = epoch_parameters[epoch_ind]['start_seed']\n",
        "  rand_min = eval(epoch_parameters[epoch_ind]['distribution_data'])['kwargs']['rand_min']\n",
        "  rand_max = eval(epoch_parameters[epoch_ind]['distribution_data'])['kwargs']['rand_max']\n",
        "  update_rate = epoch_parameters[epoch_ind]['update_rate']\n",
        "  \n",
        "  new_stim = np.array([getRandVal(rand_min, rand_max, start_seed, update_rate, t) for t in stim_times])\n",
        "  current_frame_times = stimulus_start_times[epoch_ind] + stim_times  # In Prairie View time (sec)\n",
        "  \n",
        "  baseline_time = 1 # (sec) generally could be pre_time, but for opto only take previous 1 sec\n",
        "  baseline_times = np.linspace(current_frame_times[0]-baseline_time, current_frame_times[0], int(1/sample_period))\n",
        "  baseline = np.mean(f_interp_response(baseline_times))\n",
        "  \n",
        "  # Convert to dF/F\n",
        "  current_interp_response = (f_interp_response(current_frame_times) - baseline) / baseline\n",
        "  \n",
        "  filter_fft = np.fft.fft(current_interp_response - np.mean(current_interp_response)) * np.conj(\n",
        "      np.fft.fft(new_stim - np.mean(new_stim)))\n",
        "    \n",
        "  filt = np.real(np.fft.ifft(filter_fft))[0 : int(filter_len)]\n",
        "  \n",
        "  trf = np.flip(filt)\n",
        "  all_trfs.append(trf)\n",
        "\n",
        "all_trfs = np.stack(all_trfs, axis=-1)\n"
      ],
      "outputs": [
        {
          "output_type": "stream",
          "name": "stdout",
          "text": [
            "===================TIMING: Channel 0======================\n",
            "150 Stims presented (of 150 parameterized)\n",
            "Stim start to start: [min=14.034, median=14.060, max=14.085] / parameterized = 14.000 sec\n",
            "Stim duration: [min=9.992, median=9.992, max=10.009] / parameterized = 10.000 sec\n",
            "Dropped 0 / 180002 frames (0.00%)\n",
            "==========================================================\n",
            "===================TIMING: Channel 1======================\n",
            "150 Stims presented (of 150 parameterized)\n",
            "Stim start to start: [min=14.034, median=14.060, max=14.085] / parameterized = 14.000 sec\n",
            "Stim duration: [min=9.992, median=9.992, max=10.009] / parameterized = 10.000 sec\n",
            "Dropped 0 / 180002 frames (0.00%)\n",
            "==========================================================\n"
          ]
        }
      ],
      "execution_count": 25,
      "metadata": {
        "collapsed": true,
        "execution": {
          "iopub.execute_input": "2022-11-03T18:29:29.528Z",
          "iopub.status.busy": "2022-11-03T18:29:29.520Z",
          "iopub.status.idle": "2022-11-03T18:29:34.902Z",
          "shell.execute_reply": "2022-11-03T18:29:34.907Z"
        },
        "jupyter": {
          "outputs_hidden": false,
          "source_hidden": false
        },
        "nteract": {
          "transient": {
            "deleting": false
          }
        }
      }
    },
    {
      "cell_type": "code",
      "source": [
        "filter_time = np.flip(np.arange(0, filter_len) * 1/ideal_frame_rate)\n",
        "fh, ax = plt.subplots(1, 1, figsize=(6, 3))\n",
        "ax.plot(filter_time, np.mean(all_trfs, axis=-1))\n",
        "ax.axhline(y=0, color='k')\n",
        "\n"
      ],
      "outputs": [
        {
          "output_type": "execute_result",
          "execution_count": 26,
          "data": {
            "text/plain": "<matplotlib.lines.Line2D at 0x7fc879590f70>"
          },
          "metadata": {}
        },
        {
          "output_type": "display_data",
          "data": {
            "image/png": "[encoded data removed]",
            "text/plain": "<Figure size 600x300 with 1 Axes>"
          },
          "metadata": {}
        }
      ],
      "execution_count": 26,
      "metadata": {
        "collapsed": true,
        "execution": {
          "iopub.execute_input": "2022-11-03T18:29:34.929Z",
          "iopub.status.busy": "2022-11-03T18:29:34.925Z",
          "iopub.status.idle": "2022-11-03T18:29:34.971Z",
          "shell.execute_reply": "2022-11-03T18:29:34.978Z"
        },
        "jupyter": {
          "outputs_hidden": false,
          "source_hidden": false
        },
        "nteract": {
          "transient": {
            "deleting": false
          }
        }
      }
    },
    {
      "cell_type": "code",
      "source": [
        "filter_fft.shape"
      ],
      "outputs": [],
      "execution_count": null,
      "metadata": {
        "collapsed": true,
        "execution": {
          "iopub.execute_input": "2022-11-03T18:14:44.277Z",
          "iopub.status.busy": "2022-11-03T18:14:44.273Z",
          "iopub.status.idle": "2022-11-03T18:14:44.289Z",
          "shell.execute_reply": "2022-11-03T18:14:44.291Z"
        },
        "jupyter": {
          "outputs_hidden": false,
          "source_hidden": false
        },
        "nteract": {
          "transient": {
            "deleting": false
          }
        }
      }
    },
    {
      "cell_type": "code",
      "source": [
        "# Look at filter in fourier space\n",
        "\n",
        "# FFT frequency sample points\n",
        "freq = np.fft.fftfreq(n=len(filter_fft), d=1/ideal_frame_rate)\n",
        "\n",
        "# Filter power spectrum\n",
        "fh, ax = plt.subplots(1, 1, figsize=(6, 3))\n",
        "# FFT shift before visualizing\n",
        "ax.plot(np.fft.fftshift(freq), np.abs(np.fft.fftshift(filter_fft))**2)\n",
        "# ax.plot(np.fft.fftshift(freq), np.fft.fftshift(filter_fft))\n",
        "\n",
        "ax.set_xlim([0, 60])\n",
        "# ax.set_yscale('log')\n",
        "ax.set_xlabel('Freq (Hz)')\n",
        "ax.set_ylabel('Power')\n",
        "\n",
        "\n",
        "# Conclusion: very little power at high frequencies, no use in doing freq cutoff before ifft\n"
      ],
      "outputs": [
        {
          "output_type": "execute_result",
          "execution_count": 19,
          "data": {
            "text/plain": "Text(0, 0.5, 'Power')"
          },
          "metadata": {}
        },
        {
          "output_type": "display_data",
          "data": {
            "image/png": "[encoded data removed]",
            "text/plain": "<Figure size 600x300 with 1 Axes>"
          },
          "metadata": {}
        }
      ],
      "execution_count": 19,
      "metadata": {
        "collapsed": true,
        "execution": {
          "iopub.execute_input": "2022-11-03T18:28:56.246Z",
          "iopub.status.busy": "2022-11-03T18:28:56.239Z",
          "iopub.status.idle": "2022-11-03T18:28:56.307Z",
          "shell.execute_reply": "2022-11-03T18:28:56.310Z"
        },
        "jupyter": {
          "outputs_hidden": false,
          "source_hidden": false
        },
        "nteract": {
          "transient": {
            "deleting": false
          }
        }
      }
    },
    {
      "cell_type": "code",
      "source": [],
      "outputs": [],
      "execution_count": null,
      "metadata": {
        "collapsed": true,
        "execution": {
          "iopub.execute_input": "2022-11-03T18:19:04.267Z",
          "iopub.status.busy": "2022-11-03T18:19:04.263Z",
          "iopub.status.idle": "2022-11-03T18:19:04.280Z",
          "shell.execute_reply": "2022-11-03T18:19:04.283Z"
        },
        "jupyter": {
          "outputs_hidden": false,
          "source_hidden": false
        },
        "nteract": {
          "transient": {
            "deleting": false
          }
        }
      }
    },
    {
      "cell_type": "code",
      "source": [],
      "outputs": [],
      "execution_count": null,
      "metadata": {
        "collapsed": true,
        "jupyter": {
          "outputs_hidden": false,
          "source_hidden": false
        },
        "nteract": {
          "transient": {
            "deleting": false
          }
        }
      }
    }
  ],
  "metadata": {
    "kernel_info": {
      "name": "base"
    },
    "kernelspec": {
      "display_name": "stim_analysis",
      "language": "python",
      "name": "stim_analysis"
    },
    "language_info": {
      "codemirror_mode": {
        "name": "ipython",
        "version": 3
      },
      "file_extension": ".py",
      "mimetype": "text/x-python",
      "name": "python",
      "nbconvert_exporter": "python",
      "pygments_lexer": "ipython3",
      "version": "3.9.1"
    },
    "nteract": {
      "version": "0.28.0"
    }
  },
  "nbformat": 4,
  "nbformat_minor": 1
}