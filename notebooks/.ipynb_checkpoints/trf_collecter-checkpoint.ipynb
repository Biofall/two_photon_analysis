{
 "cells": [
  {
   "cell_type": "code",
   "execution_count": 21,
   "id": "f13b73e7",
   "metadata": {},
   "outputs": [],
   "source": [
    "# trf_collector.py\n",
    "# Avery Krieger 11/2022\n",
    "\n",
    "# argumenmts: [1] date (yyyy-mm-dd); [2] series_number; [3] roi_set_name\n",
    "# implementation: save_strfs.py 2022-03-17 1 roi_set_postfrom visanalysis.analysis import imaging_data, shared_analysis\n",
    "\n",
    "import os\n",
    "from pathlib import Path\n",
    "\n",
    "import matplotlib.patches as mpatches  # for the legend patches\n",
    "import matplotlib.pyplot as plt\n",
    "import numpy as np\n",
    "from scipy.stats import sem\n",
    "from scipy import interpolate\n",
    "from two_photon_analysis import medulla_analysis as ma\n",
    "from visanalysis.analysis import imaging_data, shared_analysis\n",
    "\n",
    "import pyfiglet"
   ]
  },
  {
   "cell_type": "code",
   "execution_count": 22,
   "id": "b91ae1fc",
   "metadata": {},
   "outputs": [],
   "source": [
    "#Initialize relevant variables\n",
    "experiment_file_directory_stem = \"/Volumes/ROG2TBAK/data/bruker/\"\n",
    "experiment_file_directory = \"/Volumes/ROG2TBAK/data/bruker/20221025\"\n",
    "\n",
    "filter_length = 2\n",
    "dff = True\n",
    "savefig = True"
   ]
  },
  {
   "cell_type": "code",
   "execution_count": 23,
   "id": "d083ad4f",
   "metadata": {},
   "outputs": [],
   "source": [
    "# Set ideal frame rate\n",
    "ideal_frame_rate = 120 #Hz\n",
    "filter_size = filter_length*ideal_frame_rate"
   ]
  },
  {
   "cell_type": "code",
   "execution_count": 24,
   "id": "bd55cae8",
   "metadata": {},
   "outputs": [],
   "source": [
    "# Mi1 Experiments\n",
    "mi1_exp0 = [[\"/Volumes/ROG2TBAK/data/bruker/20221025\", \"2022-10-25\", \"1\", \"Mi1_proximal_mixed\"]]\n",
    "mi1_exp1 = [[\"/Volumes/ROG2TBAK/data/bruker/20221027\", \"2022-10-27\", \"3\", \"Mi1_proximal_mixed\"]]\n",
    "mi1_exp2 = [[\"/Volumes/ROG2TBAK/data/bruker/20221027\", \"2022-10-27\", \"5\", \"Mi1_proximal_mixed\"]]\n",
    "\n",
    "expts = np.concatenate(\n",
    "                       (mi1_exp0, mi1_exp1, mi1_exp2), \n",
    "                       axis = 0\n",
    "                      )"
   ]
  },
  {
   "cell_type": "code",
   "execution_count": 25,
   "id": "91abcd51",
   "metadata": {},
   "outputs": [
    {
     "name": "stdout",
     "output_type": "stream",
     "text": [
      "\n",
      "----------------------------------------------------------------------------------\n",
      "----------------------------------------------------------------------------------\n",
      "----------------------------------------------------------------------------------\n",
      "----------------------------------------------------------------------------------\n",
      " _____                                    _ \n",
      "|_   _|__ _ __ ___  _ __   ___  _ __ __ _| |\n",
      "  | |/ _ \\ '_ ` _ \\| '_ \\ / _ \\| '__/ _` | |\n",
      "  | |  __/ | | | | | |_) | (_) | | | (_| | |\n",
      "  |_|\\___|_| |_| |_| .__/ \\___/|_|  \\__,_|_|\n",
      "                   |_|                      \n",
      " ____                     _   _             _____ _      _     _ \n",
      "|  _ \\ ___  ___ ___ _ __ | |_(_)_   _____  |  ___(_) ___| | __| |\n",
      "| |_) / _ \\/ __/ _ \\ '_ \\| __| \\ \\ / / _ \\ | |_  | |/ _ \\ |/ _` |\n",
      "|  _ <  __/ (_|  __/ |_) | |_| |\\ V /  __/ |  _| | |  __/ | (_| |\n",
      "|_| \\_\\___|\\___\\___| .__/ \\__|_| \\_/ \\___| |_|   |_|\\___|_|\\__,_|\n",
      "                   |_|                                           \n",
      "  ____                           _             \n",
      " / ___| ___ _ __   ___ _ __ __ _| |_ ___  _ __ \n",
      "| |  _ / _ \\ '_ \\ / _ \\ '__/ _` | __/ _ \\| '__|\n",
      "| |_| |  __/ | | |  __/ | | (_| | || (_) | |   \n",
      " \\____|\\___|_| |_|\\___|_|  \\__,_|\\__\\___/|_|   \n",
      "                                               \n",
      "\n",
      "----------------------------------------------------------------------------------\n",
      "----------------------------------------------------------------------------------\n",
      "----------------------------------------------------------------------------------\n",
      "----------------------------------------------------------------------------------\n",
      "/Volumes/ROG2TBAK/data/bruker/20221025/2022-10-25.hdf5\n",
      "/Volumes/ROG2TBAK/data/bruker/trfs/2022-10-25/\n",
      "\n",
      "----------------------------------------------------------------------------------\n",
      "Initializing: (1) visual stim recreation (2) fft responses (3) generate filters...\n",
      "\n",
      "...Starting Trial 0 of 150...\n",
      "...Starting Trial 10 of 150...\n",
      "...Starting Trial 20 of 150...\n",
      "...Starting Trial 30 of 150...\n",
      "...Starting Trial 40 of 150...\n",
      "...Starting Trial 50 of 150...\n",
      "...Starting Trial 60 of 150...\n",
      "...Starting Trial 70 of 150...\n",
      "...Starting Trial 80 of 150...\n",
      "...Starting Trial 90 of 150...\n",
      "...Starting Trial 100 of 150...\n",
      "...Starting Trial 110 of 150...\n",
      "...Starting Trial 120 of 150...\n",
      "...Starting Trial 130 of 150...\n",
      "...Starting Trial 140 of 150...\n",
      "\n",
      "-------\n",
      "DONE!\n",
      "-------\n",
      "\n",
      "-------FINISHED Experiment {exp} of {len(expts)}!-------\n",
      "\n",
      "/Volumes/ROG2TBAK/data/bruker/20221027/2022-10-27.hdf5\n",
      "/Volumes/ROG2TBAK/data/bruker/trfs/2022-10-27/\n",
      "\n",
      "----------------------------------------------------------------------------------\n",
      "Initializing: (1) visual stim recreation (2) fft responses (3) generate filters...\n",
      "\n",
      "...Starting Trial 0 of 150...\n",
      "...Starting Trial 10 of 150...\n",
      "...Starting Trial 20 of 150...\n",
      "...Starting Trial 30 of 150...\n",
      "...Starting Trial 40 of 150...\n",
      "...Starting Trial 50 of 150...\n",
      "...Starting Trial 60 of 150...\n",
      "...Starting Trial 70 of 150...\n",
      "...Starting Trial 80 of 150...\n",
      "...Starting Trial 90 of 150...\n",
      "...Starting Trial 100 of 150...\n",
      "...Starting Trial 110 of 150...\n",
      "...Starting Trial 120 of 150...\n",
      "...Starting Trial 130 of 150...\n",
      "...Starting Trial 140 of 150...\n",
      "\n",
      "-------\n",
      "DONE!\n",
      "-------\n",
      "\n",
      "-------FINISHED Experiment {exp} of {len(expts)}!-------\n",
      "\n",
      "/Volumes/ROG2TBAK/data/bruker/20221027/2022-10-27.hdf5\n",
      "/Volumes/ROG2TBAK/data/bruker/trfs/2022-10-27/\n",
      "\n",
      "----------------------------------------------------------------------------------\n",
      "Initializing: (1) visual stim recreation (2) fft responses (3) generate filters...\n",
      "\n",
      "...Starting Trial 0 of 150...\n",
      "...Starting Trial 10 of 150...\n",
      "...Starting Trial 20 of 150...\n",
      "...Starting Trial 30 of 150...\n",
      "...Starting Trial 40 of 150...\n",
      "...Starting Trial 50 of 150...\n",
      "...Starting Trial 60 of 150...\n",
      "...Starting Trial 70 of 150...\n",
      "...Starting Trial 80 of 150...\n",
      "...Starting Trial 90 of 150...\n",
      "...Starting Trial 100 of 150...\n",
      "...Starting Trial 110 of 150...\n",
      "...Starting Trial 120 of 150...\n",
      "...Starting Trial 130 of 150...\n",
      "...Starting Trial 140 of 150...\n",
      "\n",
      "-------\n",
      "DONE!\n",
      "-------\n",
      "\n",
      "-------FINISHED Experiment {exp} of {len(expts)}!-------\n",
      "\n",
      "\n",
      "----------------------------------------------------------------------------------\n",
      "----------------------------------------------------------------------------------\n",
      "----------------------------------------------------------------------------------\n",
      "----------------------------------------------------------------------------------\n",
      " _____ ___ _   _ ___ _____ ___  \n",
      "|  ___|_ _| \\ | |_ _|_   _/ _ \\ \n",
      "| |_   | ||  \\| || |  | || | | |\n",
      "|  _|  | || |\\  || |  | || |_| |\n",
      "|_|   |___|_| \\_|___| |_| \\___/ \n",
      "                                \n",
      "\n",
      "----------------------------------------------------------------------------------\n",
      "----------------------------------------------------------------------------------\n",
      "----------------------------------------------------------------------------------\n",
      "----------------------------------------------------------------------------------\n"
     ]
    }
   ],
   "source": [
    "# Running the trfMaker function from medulla_analysis across experiments\n",
    "# initialize all the arrays\n",
    "roi_mean_trf = np.empty(shape=[0, filter_size])\n",
    "nopto_mean_trf = np.empty(shape=[0, filter_size])\n",
    "nopto_sem_plus = np.empty(shape=[0, filter_size])\n",
    "nopto_sem_minus = np.empty(shape=[0, filter_size])\n",
    "yopto_mean_trf = np.empty(shape=[0, filter_size])\n",
    "yopto_sem_plus = np.empty(shape=[0, filter_size])\n",
    "yopto_sem_minus = np.empty(shape=[0, filter_size])\n",
    "\n",
    "ascii_banner = pyfiglet.figlet_format(\"Temporal Receptive Field Generator\")\n",
    "print('\\n----------------------------------------------------------------------------------')\n",
    "print('----------------------------------------------------------------------------------')\n",
    "print('----------------------------------------------------------------------------------')\n",
    "print('----------------------------------------------------------------------------------')\n",
    "print(ascii_banner)\n",
    "print('----------------------------------------------------------------------------------')\n",
    "print('----------------------------------------------------------------------------------')\n",
    "print('----------------------------------------------------------------------------------')\n",
    "print('----------------------------------------------------------------------------------\\n\\n')\n",
    "\n",
    "for exp in range(0, len(expts)):\n",
    "    print(f'-------Started Experiment {exp} of {len(expts)}!-------\\n')\n",
    "    \n",
    "    (exp_roi_mean_trf, exp_nopto_mean_trf, exp_nopto_sem_plus, exp_nopto_sem_minus, \n",
    "    exp_yopto_mean_trf, exp_yopto_sem_plus, exp_yopto_sem_minus) = \\\n",
    "    ma.trfMaker(expts[exp, 0], expts[exp, 1], expts[exp, 2], expts[exp, 3], \n",
    "             filter_length, dff, savefig\n",
    "            )\n",
    "    \n",
    "    # append to big array\n",
    "    roi_mean_trf = np.append(roi_mean_trf, exp_roi_mean_trf, axis = 0)\n",
    "    nopto_mean_trf = np.append(nopto_mean_trf, exp_nopto_mean_trf, axis = 0)           \n",
    "    nopto_sem_plus = np.append(nopto_sem_plus, exp_nopto_sem_plus, axis = 0)\n",
    "    nopto_sem_minus = np.append(nopto_sem_minus, exp_nopto_sem_minus, axis = 0)\n",
    "    yopto_mean_trf = np.append(yopto_mean_trf, exp_yopto_mean_trf, axis = 0)\n",
    "    yopto_sem_plus = np.append(yopto_sem_plus, exp_yopto_sem_plus, axis = 0)\n",
    "    yopto_sem_minus = np.append(yopto_sem_minus, exp_yopto_sem_minus, axis = 0)\n",
    "    \n",
    "    \n",
    "ascii_banner = pyfiglet.figlet_format(\"FINITO\")\n",
    "print('\\n----------------------------------------------------------------------------------')\n",
    "print('----------------------------------------------------------------------------------')\n",
    "print('----------------------------------------------------------------------------------')\n",
    "print('----------------------------------------------------------------------------------')\n",
    "print(ascii_banner)\n",
    "print('----------------------------------------------------------------------------------')\n",
    "print('----------------------------------------------------------------------------------')\n",
    "print('----------------------------------------------------------------------------------')\n",
    "print('----------------------------------------------------------------------------------')"
   ]
  },
  {
   "cell_type": "code",
   "execution_count": 27,
   "id": "b520b377",
   "metadata": {},
   "outputs": [
    {
     "data": {
      "text/plain": [
       "(66, 240)"
      ]
     },
     "execution_count": 27,
     "metadata": {},
     "output_type": "execute_result"
    }
   ],
   "source": [
    "nopto_mean_trf.shape"
   ]
  },
  {
   "cell_type": "code",
   "execution_count": 29,
   "id": "02f29c7f",
   "metadata": {},
   "outputs": [],
   "source": [
    "# Run function to average across ROIs\n",
    "(across_roi_nopto_trf, across_roi_nopto_sem_plus, across_roi_nopto_sem_minus, \n",
    " across_roi_yopto_trf,across_roi_yopto_sem_plus, across_roi_yopto_sem_minus) = \\\n",
    " ma.avgAcrossROIs(nopto_mean_trf, nopto_sem_plus, nopto_sem_minus, \n",
    "               yopto_mean_trf, yopto_sem_plus, yopto_sem_minus)"
   ]
  },
  {
   "cell_type": "code",
   "execution_count": 37,
   "id": "bb61cdae",
   "metadata": {},
   "outputs": [
    {
     "ename": "NameError",
     "evalue": "name 'filter_len' is not defined",
     "output_type": "error",
     "traceback": [
      "\u001b[0;31m---------------------------------------------------------------------------\u001b[0m",
      "\u001b[0;31mNameError\u001b[0m                                 Traceback (most recent call last)",
      "Input \u001b[0;32mIn [37]\u001b[0m, in \u001b[0;36m<cell line: 1>\u001b[0;34m()\u001b[0m\n\u001b[0;32m----> 1\u001b[0m \u001b[43mma\u001b[49m\u001b[38;5;241;43m.\u001b[39;49m\u001b[43mplotSingleTRFComparison\u001b[49m\u001b[43m(\u001b[49m\n\u001b[1;32m      2\u001b[0m \u001b[43m                  \u001b[49m\u001b[43macross_roi_nopto_trf\u001b[49m\u001b[43m,\u001b[49m\u001b[43m \u001b[49m\u001b[43macross_roi_nopto_sem_plus\u001b[49m\u001b[43m,\u001b[49m\u001b[43m \u001b[49m\u001b[43macross_roi_nopto_sem_minus\u001b[49m\u001b[43m,\u001b[49m\n\u001b[1;32m      3\u001b[0m \u001b[43m                  \u001b[49m\u001b[43macross_roi_yopto_trf\u001b[49m\u001b[43m,\u001b[49m\u001b[43m \u001b[49m\u001b[43macross_roi_yopto_sem_plus\u001b[49m\u001b[43m,\u001b[49m\u001b[43m \u001b[49m\u001b[43macross_roi_yopto_sem_minus\u001b[49m\u001b[43m,\u001b[49m\n\u001b[1;32m      4\u001b[0m \u001b[43m                  \u001b[49m\u001b[43msavefig\u001b[49m\u001b[43m \u001b[49m\u001b[38;5;241;43m=\u001b[39;49m\u001b[43m \u001b[49m\u001b[38;5;28;43;01mFalse\u001b[39;49;00m\n\u001b[1;32m      5\u001b[0m \u001b[43m                 \u001b[49m\u001b[43m)\u001b[49m\n",
      "File \u001b[0;32m~/local_repos/two_photon_analysis/two_photon_analysis/medulla_analysis.py:1035\u001b[0m, in \u001b[0;36mplotSingleTRFComparison\u001b[0;34m(nopto_trf, nopto_sem_plus, nopto_sem_minus, yopto_trf, yopto_sem_plus, yopto_sem_minus, savefig)\u001b[0m\n\u001b[1;32m   1033\u001b[0m fh, ax \u001b[38;5;241m=\u001b[39m plt\u001b[38;5;241m.\u001b[39msubplots(\u001b[38;5;241m1\u001b[39m, \u001b[38;5;241m1\u001b[39m, figsize\u001b[38;5;241m=\u001b[39m(\u001b[38;5;241m20\u001b[39m, \u001b[38;5;241m10\u001b[39m))\n\u001b[1;32m   1034\u001b[0m \u001b[38;5;66;03m#time = np.arange(0, roi_trfs.shape[1])\u001b[39;00m\n\u001b[0;32m-> 1035\u001b[0m filter_time \u001b[38;5;241m=\u001b[39m np\u001b[38;5;241m.\u001b[39mflip(np\u001b[38;5;241m.\u001b[39marange(\u001b[38;5;241m0\u001b[39m, \u001b[43mfilter_len\u001b[49m) \u001b[38;5;241m*\u001b[39m \u001b[38;5;241m1\u001b[39m\u001b[38;5;241m/\u001b[39mideal_frame_rate)\n\u001b[1;32m   1037\u001b[0m ax\u001b[38;5;241m.\u001b[39mplot(filter_time, yopto_trf, color\u001b[38;5;241m=\u001b[39m\u001b[38;5;124m\"\u001b[39m\u001b[38;5;124mr\u001b[39m\u001b[38;5;124m\"\u001b[39m)\n\u001b[1;32m   1038\u001b[0m ax\u001b[38;5;241m.\u001b[39mfill_between(filter_time, yopto_sem_plus, yopto_sem_minus, color\u001b[38;5;241m=\u001b[39m\u001b[38;5;124m\"\u001b[39m\u001b[38;5;124mr\u001b[39m\u001b[38;5;124m\"\u001b[39m, alpha\u001b[38;5;241m=\u001b[39m\u001b[38;5;241m0.4\u001b[39m)\n",
      "\u001b[0;31mNameError\u001b[0m: name 'filter_len' is not defined"
     ]
    },
    {
     "data": {
      "image/png": "[encoded data removed]",
      "text/plain": [
       "<Figure size 1440x720 with 1 Axes>"
      ]
     },
     "metadata": {
      "needs_background": "light"
     },
     "output_type": "display_data"
    }
   ],
   "source": [
    "ma.plotSingleTRFComparison(\n",
    "                  across_roi_nopto_trf, across_roi_nopto_sem_plus, across_roi_nopto_sem_minus,\n",
    "                  across_roi_yopto_trf, across_roi_yopto_sem_plus, across_roi_yopto_sem_minus,\n",
    "                  filter_len = filter_length, savefig = False\n",
    "                 )"
   ]
  },
  {
   "cell_type": "code",
   "execution_count": null,
   "id": "3f9f9796",
   "metadata": {},
   "outputs": [],
   "source": [
    "\n",
    "\n",
    "\n",
    "\n",
    "\n"
   ]
  }
 ],
 "metadata": {
  "kernelspec": {
   "display_name": "stim_analysis",
   "language": "python",
   "name": "stim_analysis"
  },
  "language_info": {
   "codemirror_mode": {
    "name": "ipython",
    "version": 3
   },
   "file_extension": ".py",
   "mimetype": "text/x-python",
   "name": "python",
   "nbconvert_exporter": "python",
   "pygments_lexer": "ipython3",
   "version": "3.9.1"
  }
 },
 "nbformat": 4,
 "nbformat_minor": 5
}
