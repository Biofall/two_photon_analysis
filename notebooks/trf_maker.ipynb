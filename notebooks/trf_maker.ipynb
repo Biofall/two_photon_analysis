{
 "cells": [
  {
   "cell_type": "code",
   "execution_count": null,
   "id": "3cddf7f7",
   "metadata": {},
   "outputs": [],
   "source": [
    "# trf_maker.py\n",
    "# Avery Krieger 11/2022, adapted components from Tim Currier and Max Turner\n",
    "\n",
    "# argumenmts: [1] date (yyyy-mm-dd); [2] series_number; [3] roi_set_name\n",
    "# implementation: save_strfs.py 2022-03-17 1 roi_set_postfrom visanalysis.analysis import imaging_data, shared_analysis\n",
    "\n",
    "import os\n",
    "from pathlib import Path\n",
    "\n",
    "import matplotlib.patches as mpatches  # for the legend patches\n",
    "import matplotlib.pyplot as plt\n",
    "import numpy as np\n",
    "from scipy.stats import sem\n",
    "from scipy import interpolate\n",
    "from two_photon_analysis import medulla_analysis as ma\n",
    "from visanalysis.analysis import imaging_data, shared_analysis"
   ]
  },
  {
   "cell_type": "code",
   "execution_count": null,
   "id": "76d3c6d6",
   "metadata": {},
   "outputs": [],
   "source": [
    "def trfMaker(\n",
    "             experiment_file_directory, experiment_file_name, \n",
    "             series_number, roi_set_name, filter_length, dff, savefig\n",
    "            ):\n",
    "    # join path to proper format for ImagingDataObject()\n",
    "    file_path = os.path.join(experiment_file_directory, experiment_file_name + \".hdf5\")\n",
    "    print(file_path)\n",
    "    # create save directory\n",
    "    save_directory = \"/Volumes/ROG2TBAK/data/bruker/trfs/\" + experiment_file_name + \"/\"\n",
    "    print(save_directory)\n",
    "    Path(save_directory).mkdir(exist_ok=True)\n",
    "    # create ImagingDataObject (wants a path to an hdf5 file and a series number from that file)\n",
    "    ID = imaging_data.ImagingDataObject(file_path, series_number, quiet=True)\n",
    "\n"
   ]
  }
 ],
 "metadata": {
  "kernelspec": {
   "display_name": "stim_analysis",
   "language": "python",
   "name": "stim_analysis"
  },
  "language_info": {
   "codemirror_mode": {
    "name": "ipython",
    "version": 3
   },
   "file_extension": ".py",
   "mimetype": "text/x-python",
   "name": "python",
   "nbconvert_exporter": "python",
   "pygments_lexer": "ipython3",
   "version": "3.9.1"
  }
 },
 "nbformat": 4,
 "nbformat_minor": 5
}
