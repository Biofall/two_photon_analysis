{
 "cells": [
  {
   "cell_type": "code",
   "execution_count": null,
   "metadata": {},
   "outputs": [],
   "source": [
    "# q_vis_response_plotter.ipynb\n",
    "# Avery Krieger 05/23/2023\n",
    "\n",
    "# Adapts code from uniform_flash.py to analyize and plot the AstA-->Chrimson, GCaMP data\n",
    "\n",
    "%load_ext autoreload\n",
    "%autoreload 2\n",
    "\n",
    "from visanalysis.analysis import imaging_data, shared_analysis\n",
    "from visanalysis.util import plot_tools\n",
    "\n",
    "from matplotlib import pyplot as plt\n",
    "from matplotlib.ticker import FixedLocator, FixedFormatter\n",
    "\n",
    "import os\n",
    "import numpy as np\n",
    "from pathlib import Path\n",
    "\n",
    "# Load in flies\n",
    "folder_path = \"/Volumes/ABK2TBData/data_repo/bruker/20230519.selected\"\n",
    "exp_date = \"2023-05-19\"\n",
    "\n",
    "# asta_fly1_prox = [folder_path, exp_date, \"2\", \"medulla_terminals\"]\n",
    "asta_fly1_prox = [folder_path, exp_date, \"1\", \"medulla_terminals_cat2\"]\n",
    "\n",
    "asta_fly2_prox_all = [folder_path, exp_date, \"5\", \"medulla_terminals_all\"]\n",
    "asta_fly2_prox_cat2 = [folder_path, exp_date, \"5\", \"medulla_terminals_cat2\"]\n",
    "\n",
    "asta_fly3_prox_all = [folder_path, exp_date, \"8\", \"medulla_terminals_all\"]\n",
    "\n",
    "asta_prox_all = [asta_fly1_prox, asta_fly2_prox_cat2, asta_fly3_prox_all]\n",
    "asta_fly_list = [1, 2, 3]\n",
    "\n",
    "# Housekeeping:\n",
    "condition_name = 'current_led_intensity'\n",
    "save_directory = \"/Volumes/ABK2TBData/lab_repo/analysis/outputs/opto_step_series/\"\n",
    "Path(save_directory).mkdir(exist_ok=True)"
   ]
  }
 ],
 "metadata": {
  "language_info": {
   "name": "python"
  },
  "orig_nbformat": 4
 },
 "nbformat": 4,
 "nbformat_minor": 2
}
