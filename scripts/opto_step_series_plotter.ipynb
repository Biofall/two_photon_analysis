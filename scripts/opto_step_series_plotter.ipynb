{
 "cells": [
  {
   "cell_type": "code",
   "execution_count": null,
   "metadata": {},
   "outputs": [],
   "source": [
    "# opto_step_series_plotter.ipynb"
   ]
  }
 ],
 "metadata": {
  "kernelspec": {
   "display_name": "stim_analysis",
   "language": "python",
   "name": "python3"
  },
  "language_info": {
   "name": "python",
   "version": "3.9.1 (default, Nov  6 2021, 13:21:36) \n[Clang 13.0.0 (clang-1300.0.29.3)]"
  },
  "orig_nbformat": 4,
  "vscode": {
   "interpreter": {
    "hash": "7fe985275e86979b8b8f705c4e32d9b091b91324223609bf21a6bd0998534333"
   }
  }
 },
 "nbformat": 4,
 "nbformat_minor": 2
}
